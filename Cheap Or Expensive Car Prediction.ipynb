{
 "cells": [
  {
   "cell_type": "markdown",
   "id": "615818e2",
   "metadata": {},
   "source": [
    "## Install Relevant Library"
   ]
  },
  {
   "cell_type": "code",
   "execution_count": 1,
   "id": "391d7f78",
   "metadata": {},
   "outputs": [
    {
     "name": "stdout",
     "output_type": "stream",
     "text": [
      "Requirement already satisfied: pandas in c:\\users\\sindani fm\\anaconda3.i\\lib\\site-packages (1.5.3)\n",
      "Requirement already satisfied: numpy>=1.21.0 in c:\\users\\sindani fm\\anaconda3.i\\lib\\site-packages (from pandas) (1.23.5)\n",
      "Requirement already satisfied: pytz>=2020.1 in c:\\users\\sindani fm\\anaconda3.i\\lib\\site-packages (from pandas) (2022.7)\n",
      "Requirement already satisfied: python-dateutil>=2.8.1 in c:\\users\\sindani fm\\anaconda3.i\\lib\\site-packages (from pandas) (2.8.2)\n",
      "Requirement already satisfied: six>=1.5 in c:\\users\\sindani fm\\anaconda3.i\\lib\\site-packages (from python-dateutil>=2.8.1->pandas) (1.16.0)\n",
      "Note: you may need to restart the kernel to use updated packages.\n"
     ]
    }
   ],
   "source": [
    "pip install pandas"
   ]
  },
  {
   "cell_type": "markdown",
   "id": "2589166f",
   "metadata": {},
   "source": [
    "## Import Relevant Library"
   ]
  },
  {
   "cell_type": "code",
   "execution_count": 2,
   "id": "38dd9bea",
   "metadata": {},
   "outputs": [],
   "source": [
    "import pandas as pd"
   ]
  },
  {
   "cell_type": "code",
   "execution_count": 3,
   "id": "c5370eda",
   "metadata": {},
   "outputs": [],
   "source": [
    "extracted_data = pd.read_csv('Automobiles.csv')"
   ]
  },
  {
   "cell_type": "code",
   "execution_count": 4,
   "id": "b92aef62",
   "metadata": {},
   "outputs": [
    {
     "data": {
      "text/html": [
       "<div>\n",
       "<style scoped>\n",
       "    .dataframe tbody tr th:only-of-type {\n",
       "        vertical-align: middle;\n",
       "    }\n",
       "\n",
       "    .dataframe tbody tr th {\n",
       "        vertical-align: top;\n",
       "    }\n",
       "\n",
       "    .dataframe thead th {\n",
       "        text-align: right;\n",
       "    }\n",
       "</style>\n",
       "<table border=\"1\" class=\"dataframe\">\n",
       "  <thead>\n",
       "    <tr style=\"text-align: right;\">\n",
       "      <th></th>\n",
       "      <th>symboling</th>\n",
       "      <th>normalized_losses</th>\n",
       "      <th>make</th>\n",
       "      <th>fuel_type</th>\n",
       "      <th>aspiration</th>\n",
       "      <th>number_of_doors</th>\n",
       "      <th>body_style</th>\n",
       "      <th>drive_wheels</th>\n",
       "      <th>engine_location</th>\n",
       "      <th>wheel_base</th>\n",
       "      <th>...</th>\n",
       "      <th>engine_size</th>\n",
       "      <th>fuel_system</th>\n",
       "      <th>bore</th>\n",
       "      <th>stroke</th>\n",
       "      <th>compression_ratio</th>\n",
       "      <th>horsepower</th>\n",
       "      <th>peak_rpm</th>\n",
       "      <th>city_mpg</th>\n",
       "      <th>highway_mpg</th>\n",
       "      <th>price</th>\n",
       "    </tr>\n",
       "  </thead>\n",
       "  <tbody>\n",
       "    <tr>\n",
       "      <th>0</th>\n",
       "      <td>3</td>\n",
       "      <td>168</td>\n",
       "      <td>alfa-romero</td>\n",
       "      <td>gas</td>\n",
       "      <td>std</td>\n",
       "      <td>two</td>\n",
       "      <td>convertible</td>\n",
       "      <td>rwd</td>\n",
       "      <td>front</td>\n",
       "      <td>88.6</td>\n",
       "      <td>...</td>\n",
       "      <td>130</td>\n",
       "      <td>mpfi</td>\n",
       "      <td>3.47</td>\n",
       "      <td>2.68</td>\n",
       "      <td>9.0</td>\n",
       "      <td>111</td>\n",
       "      <td>5000</td>\n",
       "      <td>21</td>\n",
       "      <td>27</td>\n",
       "      <td>13495</td>\n",
       "    </tr>\n",
       "    <tr>\n",
       "      <th>1</th>\n",
       "      <td>3</td>\n",
       "      <td>168</td>\n",
       "      <td>alfa-romero</td>\n",
       "      <td>gas</td>\n",
       "      <td>std</td>\n",
       "      <td>two</td>\n",
       "      <td>convertible</td>\n",
       "      <td>rwd</td>\n",
       "      <td>front</td>\n",
       "      <td>88.6</td>\n",
       "      <td>...</td>\n",
       "      <td>130</td>\n",
       "      <td>mpfi</td>\n",
       "      <td>3.47</td>\n",
       "      <td>2.68</td>\n",
       "      <td>9.0</td>\n",
       "      <td>111</td>\n",
       "      <td>5000</td>\n",
       "      <td>21</td>\n",
       "      <td>27</td>\n",
       "      <td>16500</td>\n",
       "    </tr>\n",
       "    <tr>\n",
       "      <th>2</th>\n",
       "      <td>1</td>\n",
       "      <td>168</td>\n",
       "      <td>alfa-romero</td>\n",
       "      <td>gas</td>\n",
       "      <td>std</td>\n",
       "      <td>two</td>\n",
       "      <td>hatchback</td>\n",
       "      <td>rwd</td>\n",
       "      <td>front</td>\n",
       "      <td>94.5</td>\n",
       "      <td>...</td>\n",
       "      <td>152</td>\n",
       "      <td>mpfi</td>\n",
       "      <td>2.68</td>\n",
       "      <td>3.47</td>\n",
       "      <td>9.0</td>\n",
       "      <td>154</td>\n",
       "      <td>5000</td>\n",
       "      <td>19</td>\n",
       "      <td>26</td>\n",
       "      <td>16500</td>\n",
       "    </tr>\n",
       "    <tr>\n",
       "      <th>3</th>\n",
       "      <td>2</td>\n",
       "      <td>164</td>\n",
       "      <td>audi</td>\n",
       "      <td>gas</td>\n",
       "      <td>std</td>\n",
       "      <td>four</td>\n",
       "      <td>sedan</td>\n",
       "      <td>fwd</td>\n",
       "      <td>front</td>\n",
       "      <td>99.8</td>\n",
       "      <td>...</td>\n",
       "      <td>109</td>\n",
       "      <td>mpfi</td>\n",
       "      <td>3.19</td>\n",
       "      <td>3.40</td>\n",
       "      <td>10.0</td>\n",
       "      <td>102</td>\n",
       "      <td>5500</td>\n",
       "      <td>24</td>\n",
       "      <td>30</td>\n",
       "      <td>13950</td>\n",
       "    </tr>\n",
       "    <tr>\n",
       "      <th>4</th>\n",
       "      <td>2</td>\n",
       "      <td>164</td>\n",
       "      <td>audi</td>\n",
       "      <td>gas</td>\n",
       "      <td>std</td>\n",
       "      <td>four</td>\n",
       "      <td>sedan</td>\n",
       "      <td>4wd</td>\n",
       "      <td>front</td>\n",
       "      <td>99.4</td>\n",
       "      <td>...</td>\n",
       "      <td>136</td>\n",
       "      <td>mpfi</td>\n",
       "      <td>3.19</td>\n",
       "      <td>3.40</td>\n",
       "      <td>8.0</td>\n",
       "      <td>115</td>\n",
       "      <td>5500</td>\n",
       "      <td>18</td>\n",
       "      <td>22</td>\n",
       "      <td>17450</td>\n",
       "    </tr>\n",
       "  </tbody>\n",
       "</table>\n",
       "<p>5 rows × 26 columns</p>\n",
       "</div>"
      ],
      "text/plain": [
       "   symboling  normalized_losses         make fuel_type aspiration  \\\n",
       "0          3                168  alfa-romero       gas        std   \n",
       "1          3                168  alfa-romero       gas        std   \n",
       "2          1                168  alfa-romero       gas        std   \n",
       "3          2                164         audi       gas        std   \n",
       "4          2                164         audi       gas        std   \n",
       "\n",
       "  number_of_doors   body_style drive_wheels engine_location  wheel_base  ...  \\\n",
       "0             two  convertible          rwd           front        88.6  ...   \n",
       "1             two  convertible          rwd           front        88.6  ...   \n",
       "2             two    hatchback          rwd           front        94.5  ...   \n",
       "3            four        sedan          fwd           front        99.8  ...   \n",
       "4            four        sedan          4wd           front        99.4  ...   \n",
       "\n",
       "   engine_size  fuel_system  bore  stroke compression_ratio horsepower  \\\n",
       "0          130         mpfi  3.47    2.68               9.0        111   \n",
       "1          130         mpfi  3.47    2.68               9.0        111   \n",
       "2          152         mpfi  2.68    3.47               9.0        154   \n",
       "3          109         mpfi  3.19    3.40              10.0        102   \n",
       "4          136         mpfi  3.19    3.40               8.0        115   \n",
       "\n",
       "   peak_rpm city_mpg  highway_mpg  price  \n",
       "0      5000       21           27  13495  \n",
       "1      5000       21           27  16500  \n",
       "2      5000       19           26  16500  \n",
       "3      5500       24           30  13950  \n",
       "4      5500       18           22  17450  \n",
       "\n",
       "[5 rows x 26 columns]"
      ]
     },
     "execution_count": 4,
     "metadata": {},
     "output_type": "execute_result"
    }
   ],
   "source": [
    "extracted_data.head()"
   ]
  },
  {
   "cell_type": "code",
   "execution_count": 5,
   "id": "8b62d4ec",
   "metadata": {},
   "outputs": [
    {
     "data": {
      "text/plain": [
       "symboling              0\n",
       "normalized_losses      0\n",
       "make                   0\n",
       "fuel_type              0\n",
       "aspiration             0\n",
       "number_of_doors        0\n",
       "body_style             0\n",
       "drive_wheels           0\n",
       "engine_location        0\n",
       "wheel_base             0\n",
       "length                 0\n",
       "width                  0\n",
       "height                 0\n",
       "curb_weight            0\n",
       "engine_type            0\n",
       "number_of_cylinders    0\n",
       "engine_size            0\n",
       "fuel_system            0\n",
       "bore                   0\n",
       "stroke                 0\n",
       "compression_ratio      0\n",
       "horsepower             0\n",
       "peak_rpm               0\n",
       "city_mpg               0\n",
       "highway_mpg            0\n",
       "price                  0\n",
       "dtype: int64"
      ]
     },
     "execution_count": 5,
     "metadata": {},
     "output_type": "execute_result"
    }
   ],
   "source": [
    "extracted_data.isnull().sum()"
   ]
  },
  {
   "cell_type": "code",
   "execution_count": 6,
   "id": "d917f8ee",
   "metadata": {},
   "outputs": [],
   "source": [
    "clean_data = extracted_data"
   ]
  },
  {
   "cell_type": "markdown",
   "id": "883b6173",
   "metadata": {},
   "source": [
    "clean_data.describe().T"
   ]
  },
  {
   "cell_type": "code",
   "execution_count": 7,
   "id": "a5c325bc",
   "metadata": {},
   "outputs": [],
   "source": [
    "clean_data.drop(['symboling' , 'normalized_losses' ,'engine_location' , 'wheel_base' , 'length' , 'width' , 'height' , 'curb_weight' , 'number_of_cylinders' , 'fuel_system' , 'bore' , 'stroke' ,'compression_ratio' , 'peak_rpm'] , axis=1 , inplace = True)\n"
   ]
  },
  {
   "cell_type": "code",
   "execution_count": 8,
   "id": "101b09ea",
   "metadata": {},
   "outputs": [
    {
     "data": {
      "text/plain": [
       "toyota           32\n",
       "nissan           18\n",
       "mazda            17\n",
       "mitsubishi       13\n",
       "honda            13\n",
       "volkswagen       12\n",
       "subaru           12\n",
       "peugot           11\n",
       "volvo            11\n",
       "dodge             9\n",
       "mercedes-benz     8\n",
       "bmw               8\n",
       "plymouth          7\n",
       "audi              6\n",
       "saab              6\n",
       "porsche           4\n",
       "jaguar            3\n",
       "chevrolet         3\n",
       "alfa-romero       3\n",
       "isuzu             2\n",
       "renault           2\n",
       "mercury           1\n",
       "Name: make, dtype: int64"
      ]
     },
     "execution_count": 8,
     "metadata": {},
     "output_type": "execute_result"
    }
   ],
   "source": [
    "clean_data['make'].value_counts()"
   ]
  },
  {
   "cell_type": "code",
   "execution_count": 9,
   "id": "b716c2b5",
   "metadata": {},
   "outputs": [
    {
     "data": {
      "text/html": [
       "<div>\n",
       "<style scoped>\n",
       "    .dataframe tbody tr th:only-of-type {\n",
       "        vertical-align: middle;\n",
       "    }\n",
       "\n",
       "    .dataframe tbody tr th {\n",
       "        vertical-align: top;\n",
       "    }\n",
       "\n",
       "    .dataframe thead th {\n",
       "        text-align: right;\n",
       "    }\n",
       "</style>\n",
       "<table border=\"1\" class=\"dataframe\">\n",
       "  <thead>\n",
       "    <tr style=\"text-align: right;\">\n",
       "      <th></th>\n",
       "      <th>count</th>\n",
       "      <th>mean</th>\n",
       "      <th>std</th>\n",
       "      <th>min</th>\n",
       "      <th>25%</th>\n",
       "      <th>50%</th>\n",
       "      <th>75%</th>\n",
       "      <th>max</th>\n",
       "    </tr>\n",
       "  </thead>\n",
       "  <tbody>\n",
       "    <tr>\n",
       "      <th>engine_size</th>\n",
       "      <td>201.0</td>\n",
       "      <td>126.875622</td>\n",
       "      <td>41.546834</td>\n",
       "      <td>61.0</td>\n",
       "      <td>98.0</td>\n",
       "      <td>120.0</td>\n",
       "      <td>141.0</td>\n",
       "      <td>326.0</td>\n",
       "    </tr>\n",
       "    <tr>\n",
       "      <th>horsepower</th>\n",
       "      <td>201.0</td>\n",
       "      <td>103.263682</td>\n",
       "      <td>37.389372</td>\n",
       "      <td>48.0</td>\n",
       "      <td>70.0</td>\n",
       "      <td>95.0</td>\n",
       "      <td>116.0</td>\n",
       "      <td>262.0</td>\n",
       "    </tr>\n",
       "    <tr>\n",
       "      <th>city_mpg</th>\n",
       "      <td>201.0</td>\n",
       "      <td>25.179104</td>\n",
       "      <td>6.423220</td>\n",
       "      <td>13.0</td>\n",
       "      <td>19.0</td>\n",
       "      <td>24.0</td>\n",
       "      <td>30.0</td>\n",
       "      <td>49.0</td>\n",
       "    </tr>\n",
       "    <tr>\n",
       "      <th>highway_mpg</th>\n",
       "      <td>201.0</td>\n",
       "      <td>30.686567</td>\n",
       "      <td>6.815150</td>\n",
       "      <td>16.0</td>\n",
       "      <td>25.0</td>\n",
       "      <td>30.0</td>\n",
       "      <td>34.0</td>\n",
       "      <td>54.0</td>\n",
       "    </tr>\n",
       "    <tr>\n",
       "      <th>price</th>\n",
       "      <td>201.0</td>\n",
       "      <td>13207.129353</td>\n",
       "      <td>7947.066342</td>\n",
       "      <td>5118.0</td>\n",
       "      <td>7775.0</td>\n",
       "      <td>10295.0</td>\n",
       "      <td>16500.0</td>\n",
       "      <td>45400.0</td>\n",
       "    </tr>\n",
       "  </tbody>\n",
       "</table>\n",
       "</div>"
      ],
      "text/plain": [
       "             count          mean          std     min     25%      50%  \\\n",
       "engine_size  201.0    126.875622    41.546834    61.0    98.0    120.0   \n",
       "horsepower   201.0    103.263682    37.389372    48.0    70.0     95.0   \n",
       "city_mpg     201.0     25.179104     6.423220    13.0    19.0     24.0   \n",
       "highway_mpg  201.0     30.686567     6.815150    16.0    25.0     30.0   \n",
       "price        201.0  13207.129353  7947.066342  5118.0  7775.0  10295.0   \n",
       "\n",
       "                 75%      max  \n",
       "engine_size    141.0    326.0  \n",
       "horsepower     116.0    262.0  \n",
       "city_mpg        30.0     49.0  \n",
       "highway_mpg     34.0     54.0  \n",
       "price        16500.0  45400.0  "
      ]
     },
     "execution_count": 9,
     "metadata": {},
     "output_type": "execute_result"
    }
   ],
   "source": [
    "clean_data.describe().T"
   ]
  },
  {
   "cell_type": "markdown",
   "id": "d57408db",
   "metadata": {},
   "source": [
    "## Mapping Our Inputs"
   ]
  },
  {
   "cell_type": "code",
   "execution_count": 10,
   "id": "87d5281a",
   "metadata": {},
   "outputs": [],
   "source": [
    "car_make_map = {'toyota' :  1 ,\n",
    "'mazda'   :      1  ,\n",
    "'nissan'   :   0 ,    \n",
    "'honda'   :  1  ,   \n",
    "'volkswagen' :  1 ,   \n",
    "'subaru'    :  0   ,  \n",
    "'mitsubishi'  :  0    ,\n",
    "'volvo'  :  1   ,      \n",
    "'mercedes-benz' : 1  , \n",
    "'bmw'   :  1   ,      \n",
    "'saab' :  0    ,       \n",
    "'dodge' :  0  ,         \n",
    "'audi' :    1  ,      \n",
    "'plymouth'   :  0    , \n",
    "'porsche' :  1   ,    \n",
    "'jaguar'   :  1     , \n",
    "'chevrolet'    : 0    ,\n",
    "'alfa-romero'   :  0  ,\n",
    "'renault' :         0 ,\n",
    "'mercury'  :   0  ,    \n",
    "'peugot'  :   0       }\n",
    "\n",
    "clean_data['make'] = clean_data['make'].map(car_make_map)"
   ]
  },
  {
   "cell_type": "code",
   "execution_count": 11,
   "id": "2152a3b3",
   "metadata": {},
   "outputs": [],
   "source": [
    "fuel_type_map = {'gas' : 0, \n",
    "                'diesel' : 1}\n",
    "\n",
    "clean_data['fuel_type'] = clean_data['fuel_type'].map(fuel_type_map)"
   ]
  },
  {
   "cell_type": "code",
   "execution_count": 12,
   "id": "de61af01",
   "metadata": {},
   "outputs": [],
   "source": [
    "aspiration_map = {'std' : 0, \n",
    "                'turbo' : 1}\n",
    "\n",
    "clean_data['aspiration'] = clean_data['aspiration'].map(aspiration_map)"
   ]
  },
  {
   "cell_type": "code",
   "execution_count": 13,
   "id": "2980ec05",
   "metadata": {},
   "outputs": [],
   "source": [
    "doors_map = {'two' : 0, \n",
    "                'four' : 1}\n",
    "\n",
    "clean_data['number_of_doors'] = clean_data['number_of_doors'].map(doors_map)"
   ]
  },
  {
   "cell_type": "code",
   "execution_count": 14,
   "id": "8c4d4616",
   "metadata": {},
   "outputs": [],
   "source": [
    "body_style_map = {'sedan' : 0, \n",
    "                'hatchback' : 1 , \n",
    "                 'wagon' : 1 ,\n",
    "                 'hardtop' : 1 ,\n",
    "                 'convertible' : 1}\n",
    "\n",
    "clean_data['body_style'] = clean_data['body_style'].map(body_style_map)"
   ]
  },
  {
   "cell_type": "code",
   "execution_count": 15,
   "id": "fd344536",
   "metadata": {},
   "outputs": [],
   "source": [
    "drive_wheels_map = {'fwd' : 0, \n",
    "                'rwd' : 1 , \n",
    "                 '4wd' : 1}\n",
    "\n",
    "clean_data['drive_wheels'] = clean_data['drive_wheels'].map(drive_wheels_map)"
   ]
  },
  {
   "cell_type": "code",
   "execution_count": 16,
   "id": "7063325f",
   "metadata": {},
   "outputs": [],
   "source": [
    "engine_type_map = {'ohc' : 0 ,\n",
    "              'ohcf' : 1 ,\n",
    "              'ohcv' : 2 ,\n",
    "              'dohc' : 3 ,\n",
    "               'l' : 4 ,\n",
    "               'rotor' : 5}\n",
    "\n",
    "clean_data['engine_type'] = clean_data['engine_type'].map(engine_type_map)"
   ]
  },
  {
   "cell_type": "code",
   "execution_count": 17,
   "id": "df7ed8ab",
   "metadata": {},
   "outputs": [],
   "source": [
    "engine_median = clean_data['engine_size'].median()\n",
    "\n",
    "def engine_in_size(size):\n",
    "    if size < engine_median:\n",
    "        return 0\n",
    "    elif size > engine_median:\n",
    "        return 1\n",
    "    \n",
    "clean_data['engine_size'] = clean_data['engine_size'].map(engine_in_size)"
   ]
  },
  {
   "cell_type": "code",
   "execution_count": 18,
   "id": "8aeb80e5",
   "metadata": {},
   "outputs": [],
   "source": [
    "Phorse_median = clean_data['horsepower'].median()\n",
    "\n",
    "def power_horse_median(size):\n",
    "    if size < Phorse_median:\n",
    "        return 0\n",
    "    elif size > Phorse_median:\n",
    "        return 1\n",
    "    \n",
    "clean_data['horsepower'] = clean_data['horsepower'].map(power_horse_median)"
   ]
  },
  {
   "cell_type": "code",
   "execution_count": 19,
   "id": "7ab366c1",
   "metadata": {},
   "outputs": [],
   "source": [
    "Cmpg_median = clean_data['city_mpg'].median()\n",
    "\n",
    "def city_mpg_median(mpg):\n",
    "    if mpg < Cmpg_median:\n",
    "        return 0\n",
    "    elif mpg > Cmpg_median:\n",
    "        return 1\n",
    "    \n",
    "clean_data['city_mpg'] = clean_data['city_mpg'].map(city_mpg_median)"
   ]
  },
  {
   "cell_type": "code",
   "execution_count": 20,
   "id": "c40cd4c1",
   "metadata": {},
   "outputs": [],
   "source": [
    "Hmpg_median = clean_data['highway_mpg'].median()\n",
    "\n",
    "def highway_mpg_median(mpg):\n",
    "    if mpg < Hmpg_median:\n",
    "        return 0\n",
    "    elif mpg > Hmpg_median:\n",
    "        return 1\n",
    "    \n",
    "clean_data['highway_mpg'] = clean_data['highway_mpg'].map(highway_mpg_median)"
   ]
  },
  {
   "cell_type": "code",
   "execution_count": 21,
   "id": "8c30c8d6",
   "metadata": {},
   "outputs": [
    {
     "data": {
      "text/html": [
       "<div>\n",
       "<style scoped>\n",
       "    .dataframe tbody tr th:only-of-type {\n",
       "        vertical-align: middle;\n",
       "    }\n",
       "\n",
       "    .dataframe tbody tr th {\n",
       "        vertical-align: top;\n",
       "    }\n",
       "\n",
       "    .dataframe thead th {\n",
       "        text-align: right;\n",
       "    }\n",
       "</style>\n",
       "<table border=\"1\" class=\"dataframe\">\n",
       "  <thead>\n",
       "    <tr style=\"text-align: right;\">\n",
       "      <th></th>\n",
       "      <th>make</th>\n",
       "      <th>fuel_type</th>\n",
       "      <th>aspiration</th>\n",
       "      <th>number_of_doors</th>\n",
       "      <th>body_style</th>\n",
       "      <th>drive_wheels</th>\n",
       "      <th>engine_type</th>\n",
       "      <th>engine_size</th>\n",
       "      <th>horsepower</th>\n",
       "      <th>city_mpg</th>\n",
       "      <th>highway_mpg</th>\n",
       "      <th>price</th>\n",
       "    </tr>\n",
       "  </thead>\n",
       "  <tbody>\n",
       "    <tr>\n",
       "      <th>0</th>\n",
       "      <td>0.0</td>\n",
       "      <td>0</td>\n",
       "      <td>0</td>\n",
       "      <td>0</td>\n",
       "      <td>1</td>\n",
       "      <td>1</td>\n",
       "      <td>3</td>\n",
       "      <td>1.0</td>\n",
       "      <td>1.0</td>\n",
       "      <td>0.0</td>\n",
       "      <td>0.0</td>\n",
       "      <td>13495</td>\n",
       "    </tr>\n",
       "    <tr>\n",
       "      <th>1</th>\n",
       "      <td>0.0</td>\n",
       "      <td>0</td>\n",
       "      <td>0</td>\n",
       "      <td>0</td>\n",
       "      <td>1</td>\n",
       "      <td>1</td>\n",
       "      <td>3</td>\n",
       "      <td>1.0</td>\n",
       "      <td>1.0</td>\n",
       "      <td>0.0</td>\n",
       "      <td>0.0</td>\n",
       "      <td>16500</td>\n",
       "    </tr>\n",
       "    <tr>\n",
       "      <th>2</th>\n",
       "      <td>0.0</td>\n",
       "      <td>0</td>\n",
       "      <td>0</td>\n",
       "      <td>0</td>\n",
       "      <td>1</td>\n",
       "      <td>1</td>\n",
       "      <td>2</td>\n",
       "      <td>1.0</td>\n",
       "      <td>1.0</td>\n",
       "      <td>0.0</td>\n",
       "      <td>0.0</td>\n",
       "      <td>16500</td>\n",
       "    </tr>\n",
       "    <tr>\n",
       "      <th>3</th>\n",
       "      <td>1.0</td>\n",
       "      <td>0</td>\n",
       "      <td>0</td>\n",
       "      <td>1</td>\n",
       "      <td>0</td>\n",
       "      <td>0</td>\n",
       "      <td>0</td>\n",
       "      <td>0.0</td>\n",
       "      <td>1.0</td>\n",
       "      <td>NaN</td>\n",
       "      <td>NaN</td>\n",
       "      <td>13950</td>\n",
       "    </tr>\n",
       "    <tr>\n",
       "      <th>4</th>\n",
       "      <td>1.0</td>\n",
       "      <td>0</td>\n",
       "      <td>0</td>\n",
       "      <td>1</td>\n",
       "      <td>0</td>\n",
       "      <td>1</td>\n",
       "      <td>0</td>\n",
       "      <td>1.0</td>\n",
       "      <td>1.0</td>\n",
       "      <td>0.0</td>\n",
       "      <td>0.0</td>\n",
       "      <td>17450</td>\n",
       "    </tr>\n",
       "  </tbody>\n",
       "</table>\n",
       "</div>"
      ],
      "text/plain": [
       "   make  fuel_type  aspiration  number_of_doors  body_style  drive_wheels  \\\n",
       "0   0.0          0           0                0           1             1   \n",
       "1   0.0          0           0                0           1             1   \n",
       "2   0.0          0           0                0           1             1   \n",
       "3   1.0          0           0                1           0             0   \n",
       "4   1.0          0           0                1           0             1   \n",
       "\n",
       "   engine_type  engine_size  horsepower  city_mpg  highway_mpg  price  \n",
       "0            3          1.0         1.0       0.0          0.0  13495  \n",
       "1            3          1.0         1.0       0.0          0.0  16500  \n",
       "2            2          1.0         1.0       0.0          0.0  16500  \n",
       "3            0          0.0         1.0       NaN          NaN  13950  \n",
       "4            0          1.0         1.0       0.0          0.0  17450  "
      ]
     },
     "execution_count": 21,
     "metadata": {},
     "output_type": "execute_result"
    }
   ],
   "source": [
    "clean_data.head()"
   ]
  },
  {
   "cell_type": "code",
   "execution_count": 22,
   "id": "42e9809f",
   "metadata": {},
   "outputs": [],
   "source": [
    "clean_data.dropna(inplace = True)"
   ]
  },
  {
   "cell_type": "code",
   "execution_count": 23,
   "id": "96652509",
   "metadata": {},
   "outputs": [],
   "source": [
    "automobile_data = clean_data"
   ]
  },
  {
   "cell_type": "markdown",
   "id": "85e281d4",
   "metadata": {},
   "source": [
    "## Converting Float To Integer"
   ]
  },
  {
   "cell_type": "code",
   "execution_count": 24,
   "id": "a6b6138c",
   "metadata": {},
   "outputs": [],
   "source": [
    "automobile_data['make'] = automobile_data['make'].round().astype(int)"
   ]
  },
  {
   "cell_type": "code",
   "execution_count": 25,
   "id": "f12a2f6c",
   "metadata": {},
   "outputs": [],
   "source": [
    "automobile_data['engine_size'] = automobile_data['engine_size'].round().astype(int)"
   ]
  },
  {
   "cell_type": "code",
   "execution_count": 26,
   "id": "b4ec11cd",
   "metadata": {},
   "outputs": [],
   "source": [
    "automobile_data['horsepower'] = automobile_data['horsepower'].round().astype(int)"
   ]
  },
  {
   "cell_type": "code",
   "execution_count": 27,
   "id": "6cad4bb9",
   "metadata": {},
   "outputs": [],
   "source": [
    "automobile_data['city_mpg'] = automobile_data['city_mpg'].round().astype(int)"
   ]
  },
  {
   "cell_type": "code",
   "execution_count": 28,
   "id": "a7db7b6b",
   "metadata": {},
   "outputs": [],
   "source": [
    "automobile_data['highway_mpg'] = automobile_data['highway_mpg'].round().astype(int)"
   ]
  },
  {
   "cell_type": "code",
   "execution_count": 29,
   "id": "12ea47b0",
   "metadata": {},
   "outputs": [
    {
     "data": {
      "text/html": [
       "<div>\n",
       "<style scoped>\n",
       "    .dataframe tbody tr th:only-of-type {\n",
       "        vertical-align: middle;\n",
       "    }\n",
       "\n",
       "    .dataframe tbody tr th {\n",
       "        vertical-align: top;\n",
       "    }\n",
       "\n",
       "    .dataframe thead th {\n",
       "        text-align: right;\n",
       "    }\n",
       "</style>\n",
       "<table border=\"1\" class=\"dataframe\">\n",
       "  <thead>\n",
       "    <tr style=\"text-align: right;\">\n",
       "      <th></th>\n",
       "      <th>make</th>\n",
       "      <th>fuel_type</th>\n",
       "      <th>aspiration</th>\n",
       "      <th>number_of_doors</th>\n",
       "      <th>body_style</th>\n",
       "      <th>drive_wheels</th>\n",
       "      <th>engine_type</th>\n",
       "      <th>engine_size</th>\n",
       "      <th>horsepower</th>\n",
       "      <th>city_mpg</th>\n",
       "      <th>highway_mpg</th>\n",
       "      <th>price</th>\n",
       "    </tr>\n",
       "  </thead>\n",
       "  <tbody>\n",
       "    <tr>\n",
       "      <th>0</th>\n",
       "      <td>0</td>\n",
       "      <td>0</td>\n",
       "      <td>0</td>\n",
       "      <td>0</td>\n",
       "      <td>1</td>\n",
       "      <td>1</td>\n",
       "      <td>3</td>\n",
       "      <td>1</td>\n",
       "      <td>1</td>\n",
       "      <td>0</td>\n",
       "      <td>0</td>\n",
       "      <td>13495</td>\n",
       "    </tr>\n",
       "    <tr>\n",
       "      <th>1</th>\n",
       "      <td>0</td>\n",
       "      <td>0</td>\n",
       "      <td>0</td>\n",
       "      <td>0</td>\n",
       "      <td>1</td>\n",
       "      <td>1</td>\n",
       "      <td>3</td>\n",
       "      <td>1</td>\n",
       "      <td>1</td>\n",
       "      <td>0</td>\n",
       "      <td>0</td>\n",
       "      <td>16500</td>\n",
       "    </tr>\n",
       "    <tr>\n",
       "      <th>2</th>\n",
       "      <td>0</td>\n",
       "      <td>0</td>\n",
       "      <td>0</td>\n",
       "      <td>0</td>\n",
       "      <td>1</td>\n",
       "      <td>1</td>\n",
       "      <td>2</td>\n",
       "      <td>1</td>\n",
       "      <td>1</td>\n",
       "      <td>0</td>\n",
       "      <td>0</td>\n",
       "      <td>16500</td>\n",
       "    </tr>\n",
       "    <tr>\n",
       "      <th>4</th>\n",
       "      <td>1</td>\n",
       "      <td>0</td>\n",
       "      <td>0</td>\n",
       "      <td>1</td>\n",
       "      <td>0</td>\n",
       "      <td>1</td>\n",
       "      <td>0</td>\n",
       "      <td>1</td>\n",
       "      <td>1</td>\n",
       "      <td>0</td>\n",
       "      <td>0</td>\n",
       "      <td>17450</td>\n",
       "    </tr>\n",
       "    <tr>\n",
       "      <th>5</th>\n",
       "      <td>1</td>\n",
       "      <td>0</td>\n",
       "      <td>0</td>\n",
       "      <td>0</td>\n",
       "      <td>0</td>\n",
       "      <td>0</td>\n",
       "      <td>0</td>\n",
       "      <td>1</td>\n",
       "      <td>1</td>\n",
       "      <td>0</td>\n",
       "      <td>0</td>\n",
       "      <td>15250</td>\n",
       "    </tr>\n",
       "  </tbody>\n",
       "</table>\n",
       "</div>"
      ],
      "text/plain": [
       "   make  fuel_type  aspiration  number_of_doors  body_style  drive_wheels  \\\n",
       "0     0          0           0                0           1             1   \n",
       "1     0          0           0                0           1             1   \n",
       "2     0          0           0                0           1             1   \n",
       "4     1          0           0                1           0             1   \n",
       "5     1          0           0                0           0             0   \n",
       "\n",
       "   engine_type  engine_size  horsepower  city_mpg  highway_mpg  price  \n",
       "0            3            1           1         0            0  13495  \n",
       "1            3            1           1         0            0  16500  \n",
       "2            2            1           1         0            0  16500  \n",
       "4            0            1           1         0            0  17450  \n",
       "5            0            1           1         0            0  15250  "
      ]
     },
     "execution_count": 29,
     "metadata": {},
     "output_type": "execute_result"
    }
   ],
   "source": [
    "automobile_data.head() # confirming if we have converted our columns to whole numbers"
   ]
  },
  {
   "cell_type": "markdown",
   "id": "f8b2c34b",
   "metadata": {},
   "source": [
    "## Mapping Our Target"
   ]
  },
  {
   "cell_type": "code",
   "execution_count": 30,
   "id": "15f9ced6",
   "metadata": {},
   "outputs": [],
   "source": [
    "# where 0 is less than median price , assuming it's cheaper and 1 more than the median price making it to be quite expensive . \n",
    "# Our 50% is 10295.0 where we obtained it from our descriptive data"
   ]
  },
  {
   "cell_type": "code",
   "execution_count": 31,
   "id": "dd1918a7",
   "metadata": {},
   "outputs": [],
   "source": [
    "Price_median = automobile_data['price'].median()\n",
    "\n",
    "def price_median(amount):\n",
    "    if amount < Price_median:\n",
    "        return 0\n",
    "    elif amount > Price_median:\n",
    "        return 1\n",
    "    \n",
    "automobile_data['price'] = automobile_data['price'].map(price_median)"
   ]
  },
  {
   "cell_type": "markdown",
   "id": "9ce618fc",
   "metadata": {},
   "source": [
    "## Machine Learning Algorithm"
   ]
  },
  {
   "cell_type": "markdown",
   "id": "b5b25a03",
   "metadata": {},
   "source": [
    "## *Splitting*"
   ]
  },
  {
   "cell_type": "code",
   "execution_count": 32,
   "id": "2f808ff2",
   "metadata": {},
   "outputs": [],
   "source": [
    "from sklearn.model_selection import train_test_split"
   ]
  },
  {
   "cell_type": "code",
   "execution_count": 33,
   "id": "62720a8e",
   "metadata": {},
   "outputs": [],
   "source": [
    "x = automobile_data.drop('price' , axis = 1)\n",
    "y = automobile_data['price']"
   ]
  },
  {
   "cell_type": "code",
   "execution_count": 34,
   "id": "b7842f90",
   "metadata": {},
   "outputs": [],
   "source": [
    "x_train , x_test , y_train , y_test = train_test_split(x , y , test_size = 0.2 , random_state=42)"
   ]
  },
  {
   "cell_type": "markdown",
   "id": "580b16cf",
   "metadata": {},
   "source": [
    "## Fitting The Algorithm"
   ]
  },
  {
   "cell_type": "code",
   "execution_count": 35,
   "id": "8f4dd0a9",
   "metadata": {},
   "outputs": [],
   "source": [
    "import xgboost as xgb"
   ]
  },
  {
   "cell_type": "code",
   "execution_count": 36,
   "id": "6733f355",
   "metadata": {},
   "outputs": [],
   "source": [
    "xgb_car_model = xgb.XGBClassifier()"
   ]
  },
  {
   "cell_type": "code",
   "execution_count": 37,
   "id": "933c9336",
   "metadata": {},
   "outputs": [
    {
     "data": {
      "text/html": [
       "<style>#sk-container-id-1 {color: black;background-color: white;}#sk-container-id-1 pre{padding: 0;}#sk-container-id-1 div.sk-toggleable {background-color: white;}#sk-container-id-1 label.sk-toggleable__label {cursor: pointer;display: block;width: 100%;margin-bottom: 0;padding: 0.3em;box-sizing: border-box;text-align: center;}#sk-container-id-1 label.sk-toggleable__label-arrow:before {content: \"▸\";float: left;margin-right: 0.25em;color: #696969;}#sk-container-id-1 label.sk-toggleable__label-arrow:hover:before {color: black;}#sk-container-id-1 div.sk-estimator:hover label.sk-toggleable__label-arrow:before {color: black;}#sk-container-id-1 div.sk-toggleable__content {max-height: 0;max-width: 0;overflow: hidden;text-align: left;background-color: #f0f8ff;}#sk-container-id-1 div.sk-toggleable__content pre {margin: 0.2em;color: black;border-radius: 0.25em;background-color: #f0f8ff;}#sk-container-id-1 input.sk-toggleable__control:checked~div.sk-toggleable__content {max-height: 200px;max-width: 100%;overflow: auto;}#sk-container-id-1 input.sk-toggleable__control:checked~label.sk-toggleable__label-arrow:before {content: \"▾\";}#sk-container-id-1 div.sk-estimator input.sk-toggleable__control:checked~label.sk-toggleable__label {background-color: #d4ebff;}#sk-container-id-1 div.sk-label input.sk-toggleable__control:checked~label.sk-toggleable__label {background-color: #d4ebff;}#sk-container-id-1 input.sk-hidden--visually {border: 0;clip: rect(1px 1px 1px 1px);clip: rect(1px, 1px, 1px, 1px);height: 1px;margin: -1px;overflow: hidden;padding: 0;position: absolute;width: 1px;}#sk-container-id-1 div.sk-estimator {font-family: monospace;background-color: #f0f8ff;border: 1px dotted black;border-radius: 0.25em;box-sizing: border-box;margin-bottom: 0.5em;}#sk-container-id-1 div.sk-estimator:hover {background-color: #d4ebff;}#sk-container-id-1 div.sk-parallel-item::after {content: \"\";width: 100%;border-bottom: 1px solid gray;flex-grow: 1;}#sk-container-id-1 div.sk-label:hover label.sk-toggleable__label {background-color: #d4ebff;}#sk-container-id-1 div.sk-serial::before {content: \"\";position: absolute;border-left: 1px solid gray;box-sizing: border-box;top: 0;bottom: 0;left: 50%;z-index: 0;}#sk-container-id-1 div.sk-serial {display: flex;flex-direction: column;align-items: center;background-color: white;padding-right: 0.2em;padding-left: 0.2em;position: relative;}#sk-container-id-1 div.sk-item {position: relative;z-index: 1;}#sk-container-id-1 div.sk-parallel {display: flex;align-items: stretch;justify-content: center;background-color: white;position: relative;}#sk-container-id-1 div.sk-item::before, #sk-container-id-1 div.sk-parallel-item::before {content: \"\";position: absolute;border-left: 1px solid gray;box-sizing: border-box;top: 0;bottom: 0;left: 50%;z-index: -1;}#sk-container-id-1 div.sk-parallel-item {display: flex;flex-direction: column;z-index: 1;position: relative;background-color: white;}#sk-container-id-1 div.sk-parallel-item:first-child::after {align-self: flex-end;width: 50%;}#sk-container-id-1 div.sk-parallel-item:last-child::after {align-self: flex-start;width: 50%;}#sk-container-id-1 div.sk-parallel-item:only-child::after {width: 0;}#sk-container-id-1 div.sk-dashed-wrapped {border: 1px dashed gray;margin: 0 0.4em 0.5em 0.4em;box-sizing: border-box;padding-bottom: 0.4em;background-color: white;}#sk-container-id-1 div.sk-label label {font-family: monospace;font-weight: bold;display: inline-block;line-height: 1.2em;}#sk-container-id-1 div.sk-label-container {text-align: center;}#sk-container-id-1 div.sk-container {/* jupyter's `normalize.less` sets `[hidden] { display: none; }` but bootstrap.min.css set `[hidden] { display: none !important; }` so we also need the `!important` here to be able to override the default hidden behavior on the sphinx rendered scikit-learn.org. See: https://github.com/scikit-learn/scikit-learn/issues/21755 */display: inline-block !important;position: relative;}#sk-container-id-1 div.sk-text-repr-fallback {display: none;}</style><div id=\"sk-container-id-1\" class=\"sk-top-container\"><div class=\"sk-text-repr-fallback\"><pre>XGBClassifier(base_score=None, booster=None, callbacks=None,\n",
       "              colsample_bylevel=None, colsample_bynode=None,\n",
       "              colsample_bytree=None, early_stopping_rounds=None,\n",
       "              enable_categorical=False, eval_metric=None, feature_types=None,\n",
       "              gamma=None, gpu_id=None, grow_policy=None, importance_type=None,\n",
       "              interaction_constraints=None, learning_rate=None, max_bin=None,\n",
       "              max_cat_threshold=None, max_cat_to_onehot=None,\n",
       "              max_delta_step=None, max_depth=None, max_leaves=None,\n",
       "              min_child_weight=None, missing=nan, monotone_constraints=None,\n",
       "              n_estimators=100, n_jobs=None, num_parallel_tree=None,\n",
       "              predictor=None, random_state=None, ...)</pre><b>In a Jupyter environment, please rerun this cell to show the HTML representation or trust the notebook. <br />On GitHub, the HTML representation is unable to render, please try loading this page with nbviewer.org.</b></div><div class=\"sk-container\" hidden><div class=\"sk-item\"><div class=\"sk-estimator sk-toggleable\"><input class=\"sk-toggleable__control sk-hidden--visually\" id=\"sk-estimator-id-1\" type=\"checkbox\" checked><label for=\"sk-estimator-id-1\" class=\"sk-toggleable__label sk-toggleable__label-arrow\">XGBClassifier</label><div class=\"sk-toggleable__content\"><pre>XGBClassifier(base_score=None, booster=None, callbacks=None,\n",
       "              colsample_bylevel=None, colsample_bynode=None,\n",
       "              colsample_bytree=None, early_stopping_rounds=None,\n",
       "              enable_categorical=False, eval_metric=None, feature_types=None,\n",
       "              gamma=None, gpu_id=None, grow_policy=None, importance_type=None,\n",
       "              interaction_constraints=None, learning_rate=None, max_bin=None,\n",
       "              max_cat_threshold=None, max_cat_to_onehot=None,\n",
       "              max_delta_step=None, max_depth=None, max_leaves=None,\n",
       "              min_child_weight=None, missing=nan, monotone_constraints=None,\n",
       "              n_estimators=100, n_jobs=None, num_parallel_tree=None,\n",
       "              predictor=None, random_state=None, ...)</pre></div></div></div></div></div>"
      ],
      "text/plain": [
       "XGBClassifier(base_score=None, booster=None, callbacks=None,\n",
       "              colsample_bylevel=None, colsample_bynode=None,\n",
       "              colsample_bytree=None, early_stopping_rounds=None,\n",
       "              enable_categorical=False, eval_metric=None, feature_types=None,\n",
       "              gamma=None, gpu_id=None, grow_policy=None, importance_type=None,\n",
       "              interaction_constraints=None, learning_rate=None, max_bin=None,\n",
       "              max_cat_threshold=None, max_cat_to_onehot=None,\n",
       "              max_delta_step=None, max_depth=None, max_leaves=None,\n",
       "              min_child_weight=None, missing=nan, monotone_constraints=None,\n",
       "              n_estimators=100, n_jobs=None, num_parallel_tree=None,\n",
       "              predictor=None, random_state=None, ...)"
      ]
     },
     "execution_count": 37,
     "metadata": {},
     "output_type": "execute_result"
    }
   ],
   "source": [
    "xgb_car_model.fit(x_train , y_train)"
   ]
  },
  {
   "cell_type": "code",
   "execution_count": 38,
   "id": "96341e84",
   "metadata": {},
   "outputs": [],
   "source": [
    "y_train_pred = xgb_car_model.predict(x_train)"
   ]
  },
  {
   "cell_type": "markdown",
   "id": "37a0e553",
   "metadata": {},
   "source": [
    "## Checking Accuracy Of The Model"
   ]
  },
  {
   "cell_type": "code",
   "execution_count": 39,
   "id": "4d85f25d",
   "metadata": {},
   "outputs": [],
   "source": [
    "from sklearn.metrics import accuracy_score"
   ]
  },
  {
   "cell_type": "code",
   "execution_count": 40,
   "id": "c7f7f43b",
   "metadata": {},
   "outputs": [
    {
     "name": "stdout",
     "output_type": "stream",
     "text": [
      "Training Accuracy: 94.66%\n"
     ]
    }
   ],
   "source": [
    "training_accuracy = accuracy_score(y_train , y_train_pred)\n",
    "percentage_form = training_accuracy * 100\n",
    "print('Training Accuracy: {:.2f}%'.format(percentage_form))"
   ]
  },
  {
   "cell_type": "code",
   "execution_count": 41,
   "id": "034ff3e8",
   "metadata": {},
   "outputs": [],
   "source": [
    "y_test_pred = xgb_car_model.predict(x_test)"
   ]
  },
  {
   "cell_type": "code",
   "execution_count": 42,
   "id": "741aaa7f",
   "metadata": {},
   "outputs": [
    {
     "name": "stdout",
     "output_type": "stream",
     "text": [
      "Testing Accuracy:87.88%\n"
     ]
    }
   ],
   "source": [
    "testing_accuracy = accuracy_score(y_test , y_test_pred)\n",
    "percentage_form = testing_accuracy * 100\n",
    "print('Testing Accuracy:{:.2f}%'.format(percentage_form))"
   ]
  },
  {
   "cell_type": "markdown",
   "id": "15bc32b2",
   "metadata": {},
   "source": [
    "## Visualizing"
   ]
  },
  {
   "cell_type": "code",
   "execution_count": 43,
   "id": "07d27072",
   "metadata": {},
   "outputs": [],
   "source": [
    "import matplotlib.pyplot as plt"
   ]
  },
  {
   "cell_type": "code",
   "execution_count": 44,
   "id": "0bee6b01",
   "metadata": {},
   "outputs": [
    {
     "data": {
      "image/png": "[encoded data removed]",
      "text/plain": [
       "<Figure size 640x480 with 1 Axes>"
      ]
     },
     "metadata": {},
     "output_type": "display_data"
    }
   ],
   "source": [
    "plt.scatter(y_test , y_test_pred , color = 'Red')\n",
    "plt.xlabel('Exact Values')\n",
    "plt.ylabel('Predicted Values')\n",
    "plt.title('Exact Values Vs Predicted Values')\n",
    "plt.show()"
   ]
  },
  {
   "cell_type": "markdown",
   "id": "9eb9db9c",
   "metadata": {},
   "source": [
    "## *Lebogang Francis Sindani*"
   ]
  }
 ],
 "metadata": {
  "kernelspec": {
   "display_name": "Python 3 (ipykernel)",
   "language": "python",
   "name": "python3"
  },
  "language_info": {
   "codemirror_mode": {
    "name": "ipython",
    "version": 3
   },
   "file_extension": ".py",
   "mimetype": "text/x-python",
   "name": "python",
   "nbconvert_exporter": "python",
   "pygments_lexer": "ipython3",
   "version": "3.10.9"
  }
 },
 "nbformat": 4,
 "nbformat_minor": 5
}
